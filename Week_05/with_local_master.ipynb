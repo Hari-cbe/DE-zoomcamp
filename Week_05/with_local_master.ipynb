{
 "cells": [
  {
   "cell_type": "code",
   "execution_count": 1,
   "id": "c21d168c",
   "metadata": {},
   "outputs": [],
   "source": [
    "import pyspark\n",
    "from pyspark.sql import SparkSession\n",
    "from pyspark.sql import functions as F"
   ]
  },
  {
   "cell_type": "markdown",
   "id": "cb12ec57",
   "metadata": {},
   "source": [
    "Connecting to the local master cluster "
   ]
  },
  {
   "cell_type": "code",
   "execution_count": 2,
   "id": "18bf4c93",
   "metadata": {},
   "outputs": [
    {
     "name": "stderr",
     "output_type": "stream",
     "text": [
      "Setting default log level to \"WARN\".\n",
      "To adjust logging level use sc.setLogLevel(newLevel). For SparkR, use setLogLevel(newLevel).\n"
     ]
    },
    {
     "name": "stdout",
     "output_type": "stream",
     "text": [
      "24/02/29 12:55:56 WARN NativeCodeLoader: Unable to load native-hadoop library for your platform... using builtin-java classes where applicable\n"
     ]
    }
   ],
   "source": [
    "spark = SparkSession.builder\\\n",
    "        .master(\"spark://de-zoomcamp.asia-south1-c.c.datatalks-de-409612.internal:7077\")\\\n",
    "        .appName(\"test\")\\\n",
    "        .getOrCreate()"
   ]
  },
  {
   "cell_type": "code",
   "execution_count": 3,
   "id": "036f924a",
   "metadata": {},
   "outputs": [
    {
     "name": "stderr",
     "output_type": "stream",
     "text": [
      "                                                                                \r"
     ]
    }
   ],
   "source": [
    "df_green = spark.read.parquet(\"data/raw/green/*/*\")"
   ]
  },
  {
   "cell_type": "code",
   "execution_count": 4,
   "id": "c8a26216",
   "metadata": {},
   "outputs": [],
   "source": [
    "df_yellow = spark.read.parquet(\"data/raw/yellow/*/*\")"
   ]
  },
  {
   "cell_type": "markdown",
   "id": "03133433",
   "metadata": {},
   "source": [
    "Renaming Columns "
   ]
  },
  {
   "cell_type": "code",
   "execution_count": 6,
   "id": "1e47278a",
   "metadata": {},
   "outputs": [],
   "source": [
    "df_green = df_green.withColumnRenamed(\"lpep_pickup_datetime\",\"pickup_datetime\")\\\n",
    "            . withColumnRenamed(\"lpep_dropoff_datetime\",\"dropoff_datetime\")"
   ]
  },
  {
   "cell_type": "code",
   "execution_count": 7,
   "id": "21aa51ba",
   "metadata": {},
   "outputs": [],
   "source": [
    "df_yellow = df_yellow.withColumnRenamed(\"tpep_pickup_datetime\",\"pickup_datetime\")\\\n",
    "                     .withColumnRenamed(\"tpep_dropoff_datetime\",\"dropoff_datetime\")"
   ]
  },
  {
   "cell_type": "markdown",
   "id": "38131808",
   "metadata": {},
   "source": [
    "Grouping two df's so selecting the common columns and grouping the data "
   ]
  },
  {
   "cell_type": "code",
   "execution_count": 8,
   "id": "856afe80",
   "metadata": {},
   "outputs": [],
   "source": [
    "common_columns = []\n",
    "\n",
    "yellow_unique_col = set(df_yellow.columns)\n",
    "\n",
    "for i in df_green.columns:\n",
    "    if i in yellow_unique_col:\n",
    "        common_columns.append(i)"
   ]
  },
  {
   "cell_type": "markdown",
   "id": "dd58387b",
   "metadata": {},
   "source": [
    "Combining two df's\n",
    "\n",
    "Using F.lit() for the 'word'"
   ]
  },
  {
   "cell_type": "code",
   "execution_count": 10,
   "id": "43e45d93",
   "metadata": {},
   "outputs": [],
   "source": [
    "df_green = df_green.select(common_columns)\\\n",
    "        .withColumn('service_type',F.lit('green'))"
   ]
  },
  {
   "cell_type": "code",
   "execution_count": 11,
   "id": "98d894a3",
   "metadata": {},
   "outputs": [],
   "source": [
    "df_yellow = df_yellow.select(common_columns).withColumn(\"service_type\",F.lit('yellow'))"
   ]
  },
  {
   "cell_type": "code",
   "execution_count": 12,
   "id": "1112286b",
   "metadata": {},
   "outputs": [],
   "source": [
    "df_comb = df_green.unionAll(df_yellow)"
   ]
  },
  {
   "cell_type": "markdown",
   "id": "7e858cf4",
   "metadata": {},
   "source": [
    "Temp Table"
   ]
  },
  {
   "cell_type": "code",
   "execution_count": 13,
   "id": "6521a0b4",
   "metadata": {},
   "outputs": [
    {
     "name": "stderr",
     "output_type": "stream",
     "text": [
      "/home/haris/spark/spark-3.3.2-bin-hadoop3/python/pyspark/sql/dataframe.py:229: FutureWarning: Deprecated in 2.0, use createOrReplaceTempView instead.\n",
      "  warnings.warn(\"Deprecated in 2.0, use createOrReplaceTempView instead.\", FutureWarning)\n"
     ]
    }
   ],
   "source": [
    "df_comb.registerTempTable('trips_data')"
   ]
  },
  {
   "cell_type": "markdown",
   "id": "92811e59",
   "metadata": {},
   "source": [
    "Using SQL in SPARK"
   ]
  },
  {
   "cell_type": "code",
   "execution_count": 14,
   "id": "549fcb01",
   "metadata": {},
   "outputs": [
    {
     "name": "stdout",
     "output_type": "stream",
     "text": [
      "24/02/29 13:12:01 ERROR StandaloneSchedulerBackend: Application has been killed. Reason: Master removed our application: KILLED\n",
      "24/02/29 13:12:01 ERROR Inbox: Ignoring error\n",
      "org.apache.spark.SparkException: Exiting due to error from cluster scheduler: Master removed our application: KILLED\n",
      "\tat org.apache.spark.errors.SparkCoreErrors$.clusterSchedulerError(SparkCoreErrors.scala:218)\n",
      "\tat org.apache.spark.scheduler.TaskSchedulerImpl.error(TaskSchedulerImpl.scala:923)\n",
      "\tat org.apache.spark.scheduler.cluster.StandaloneSchedulerBackend.dead(StandaloneSchedulerBackend.scala:154)\n",
      "\tat org.apache.spark.deploy.client.StandaloneAppClient$ClientEndpoint.markDead(StandaloneAppClient.scala:262)\n",
      "\tat org.apache.spark.deploy.client.StandaloneAppClient$ClientEndpoint$$anonfun$receive$1.applyOrElse(StandaloneAppClient.scala:169)\n",
      "\tat org.apache.spark.rpc.netty.Inbox.$anonfun$process$1(Inbox.scala:115)\n",
      "\tat org.apache.spark.rpc.netty.Inbox.safelyCall(Inbox.scala:213)\n",
      "\tat org.apache.spark.rpc.netty.Inbox.process(Inbox.scala:100)\n",
      "\tat org.apache.spark.rpc.netty.MessageLoop.org$apache$spark$rpc$netty$MessageLoop$$receiveLoop(MessageLoop.scala:75)\n",
      "\tat org.apache.spark.rpc.netty.MessageLoop$$anon$1.run(MessageLoop.scala:41)\n",
      "\tat java.base/java.util.concurrent.ThreadPoolExecutor.runWorker(ThreadPoolExecutor.java:1128)\n",
      "\tat java.base/java.util.concurrent.ThreadPoolExecutor$Worker.run(ThreadPoolExecutor.java:628)\n",
      "\tat java.base/java.lang.Thread.run(Thread.java:834)\n"
     ]
    }
   ],
   "source": [
    "df_result = spark.sql(\"\"\"\n",
    "SELECT \n",
    "    -- Reveneue grouping \n",
    "    PULocationID AS revenue_zone,\n",
    "    date_trunc(\"month\", \"pickup_datetime\") AS revenue_month, \n",
    "\n",
    "    service_type, \n",
    "\n",
    "    -- Revenue calculation \n",
    "    SUM(fare_amount) AS revenue_monthly_fare,\n",
    "    SUM(extra) AS revenue_monthly_extra,\n",
    "    SUM(mta_tax) AS revenue_monthly_mta_tax,\n",
    "    SUM(tip_amount) AS revenue_monthly_tip_amount,\n",
    "    SUM(tolls_amount) AS revenue_monthly_tolls_amount,\n",
    "    SUM(improvement_surcharge) AS revenue_monthly_improvement_surcharge,\n",
    "    SUM(total_amount) AS revenue_monthly_total_amount,\n",
    "\n",
    "    -- Additional calculations\n",
    "    AVG(passenger_count) AS avg_monthly_passenger_count,\n",
    "    AVG(trip_distance) AS avg_monthly_trip_distance\n",
    "\n",
    "FROM \n",
    "    trips_data\n",
    "GROUP by 1, 2, 3\n",
    "\"\"\")"
   ]
  },
  {
   "cell_type": "markdown",
   "id": "596ab38a",
   "metadata": {},
   "source": [
    "df.write.coalase(<Number>).parquet() \n",
    "    \n",
    "coalase means if we have partition then it will reduce the partition to the number of files "
   ]
  },
  {
   "cell_type": "code",
   "execution_count": 56,
   "id": "4fe502a9",
   "metadata": {
    "scrolled": true
   },
   "outputs": [
    {
     "name": "stderr",
     "output_type": "stream",
     "text": [
      "                                                                                \r"
     ]
    }
   ],
   "source": [
    "df_result.write.parquet(\"data/processed/revenue\")"
   ]
  },
  {
   "cell_type": "code",
   "execution_count": null,
   "id": "6a0452d2",
   "metadata": {},
   "outputs": [],
   "source": []
  }
 ],
 "metadata": {
  "kernelspec": {
   "display_name": "Python 3 (ipykernel)",
   "language": "python",
   "name": "python3"
  },
  "language_info": {
   "codemirror_mode": {
    "name": "ipython",
    "version": 3
   },
   "file_extension": ".py",
   "mimetype": "text/x-python",
   "name": "python",
   "nbconvert_exporter": "python",
   "pygments_lexer": "ipython3",
   "version": "3.11.5"
  }
 },
 "nbformat": 4,
 "nbformat_minor": 5
}
