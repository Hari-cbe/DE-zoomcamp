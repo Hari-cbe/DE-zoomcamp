{
 "cells": [
  {
   "cell_type": "code",
   "execution_count": 3,
   "id": "97941bb1",
   "metadata": {},
   "outputs": [],
   "source": [
    "import pyspark\n",
    "\n",
    "from pyspark.sql import types, SparkSession, functions as F "
   ]
  },
  {
   "cell_type": "code",
   "execution_count": 4,
   "id": "725c5ed7",
   "metadata": {},
   "outputs": [
    {
     "name": "stderr",
     "output_type": "stream",
     "text": [
      "Setting default log level to \"WARN\".\n",
      "To adjust logging level use sc.setLogLevel(newLevel). For SparkR, use setLogLevel(newLevel).\n"
     ]
    },
    {
     "name": "stdout",
     "output_type": "stream",
     "text": [
      "24/03/01 02:28:24 WARN NativeCodeLoader: Unable to load native-hadoop library for your platform... using builtin-java classes where applicable\n"
     ]
    }
   ],
   "source": [
    "spark = SparkSession.builder\\\n",
    "        .master(\"local[*]\")\\\n",
    "        .appName(\"homework_spark\")\\\n",
    "        .getOrCreate()"
   ]
  },
  {
   "cell_type": "code",
   "execution_count": 4,
   "id": "9701c32a",
   "metadata": {},
   "outputs": [
    {
     "data": {
      "text/plain": [
       "'3.3.2'"
      ]
     },
     "execution_count": 4,
     "metadata": {},
     "output_type": "execute_result"
    }
   ],
   "source": [
    "spark.version"
   ]
  },
  {
   "cell_type": "code",
   "execution_count": 5,
   "id": "55a5c626",
   "metadata": {},
   "outputs": [],
   "source": [
    "schema = types.StructType([\n",
    "    types.StructField('dispatching_base_num', types.StringType(), True), \n",
    "    types.StructField('pickup_datetime', types.TimestampType(), True), \n",
    "    types.StructField('dropOff_datetime', types.TimestampType(), True), \n",
    "    types.StructField('PUlocationID', types.IntegerType(), True), \n",
    "    types.StructField('DOlocationID', types.IntegerType(), True), \n",
    "    types.StructField('SR_Flag', types.StringType(), True), \n",
    "    types.StructField('Affiliated_base_number', types.StringType(), True)\n",
    "])"
   ]
  },
  {
   "cell_type": "code",
   "execution_count": 6,
   "id": "3e58cb5f",
   "metadata": {},
   "outputs": [],
   "source": [
    "df = spark.read.schema(schema)\\\n",
    "    .option(\"header\",\"true\")\\\n",
    "    .csv('fhv_tripdata_2019-10.csv.gz')"
   ]
  },
  {
   "cell_type": "code",
   "execution_count": 7,
   "id": "56b5b067",
   "metadata": {},
   "outputs": [
    {
     "data": {
      "text/plain": [
       "StructType([StructField('dispatching_base_num', StringType(), True), StructField('pickup_datetime', TimestampType(), True), StructField('dropOff_datetime', TimestampType(), True), StructField('PUlocationID', IntegerType(), True), StructField('DOlocationID', IntegerType(), True), StructField('SR_Flag', StringType(), True), StructField('Affiliated_base_number', StringType(), True)])"
      ]
     },
     "execution_count": 7,
     "metadata": {},
     "output_type": "execute_result"
    }
   ],
   "source": [
    "df.schema"
   ]
  },
  {
   "cell_type": "code",
   "execution_count": 18,
   "id": "106d8e97",
   "metadata": {},
   "outputs": [
    {
     "name": "stdout",
     "output_type": "stream",
     "text": [
      "+--------------------+-------------------+-------------------+------------+------------+-------+----------------------+\n",
      "|dispatching_base_num|    pickup_datetime|   dropOff_datetime|PUlocationID|DOlocationID|SR_Flag|Affiliated_base_number|\n",
      "+--------------------+-------------------+-------------------+------------+------------+-------+----------------------+\n",
      "|              B00009|2019-10-01 00:23:00|2019-10-01 00:35:00|         264|         264|   null|                B00009|\n",
      "|              B00013|2019-10-01 00:11:29|2019-10-01 00:13:22|         264|         264|   null|                B00013|\n",
      "|              B00014|2019-10-01 00:11:43|2019-10-01 00:37:20|         264|         264|   null|                B00014|\n",
      "|              B00014|2019-10-01 00:56:29|2019-10-01 00:57:47|         264|         264|   null|                B00014|\n",
      "|              B00014|2019-10-01 00:23:09|2019-10-01 00:28:27|         264|         264|   null|                B00014|\n",
      "+--------------------+-------------------+-------------------+------------+------------+-------+----------------------+\n",
      "only showing top 5 rows\n",
      "\n"
     ]
    }
   ],
   "source": [
    "df.show(5)"
   ]
  },
  {
   "cell_type": "markdown",
   "id": "82252d55",
   "metadata": {},
   "source": [
    "Trips started on Oct 15th"
   ]
  },
  {
   "cell_type": "code",
   "execution_count": 8,
   "id": "17a6dcf0",
   "metadata": {},
   "outputs": [
    {
     "name": "stderr",
     "output_type": "stream",
     "text": [
      "                                                                                \r"
     ]
    },
    {
     "data": {
      "text/plain": [
       "62610"
      ]
     },
     "execution_count": 8,
     "metadata": {},
     "output_type": "execute_result"
    }
   ],
   "source": [
    "df.filter(df['pickup_datetime'] >= '2019-10-15 00:00:00')\\\n",
    "        .filter(df['pickup_datetime'] < '2019-10-16 00:00:00').count()"
   ]
  },
  {
   "cell_type": "code",
   "execution_count": 9,
   "id": "4fda288b",
   "metadata": {},
   "outputs": [
    {
     "name": "stderr",
     "output_type": "stream",
     "text": [
      "/home/haris/spark/spark-3.3.2-bin-hadoop3/python/pyspark/sql/dataframe.py:229: FutureWarning: Deprecated in 2.0, use createOrReplaceTempView instead.\n",
      "  warnings.warn(\"Deprecated in 2.0, use createOrReplaceTempView instead.\", FutureWarning)\n"
     ]
    }
   ],
   "source": [
    "df.registerTempTable('fhv')"
   ]
  },
  {
   "cell_type": "code",
   "execution_count": 87,
   "id": "50b76b82",
   "metadata": {},
   "outputs": [
    {
     "name": "stderr",
     "output_type": "stream",
     "text": [
      "\r",
      "[Stage 116:>                                                        (0 + 1) / 1]\r"
     ]
    },
    {
     "name": "stdout",
     "output_type": "stream",
     "text": [
      "+--------+\n",
      "|count(1)|\n",
      "+--------+\n",
      "| 1897493|\n",
      "+--------+\n",
      "\n"
     ]
    },
    {
     "name": "stderr",
     "output_type": "stream",
     "text": [
      "\r",
      "                                                                                \r"
     ]
    }
   ],
   "source": [
    "spark.sql(\"\"\"\n",
    "    SELECT \n",
    "        count(1)\n",
    "    FROM \n",
    "        fhv\n",
    "    WHERE\n",
    "        extract(year from cast(pickup_datetime as date)) = '2019'\n",
    "\"\"\").show()"
   ]
  },
  {
   "cell_type": "markdown",
   "id": "13869bf9",
   "metadata": {},
   "source": [
    "What is the length of the longest trip in the dataset in hours?"
   ]
  },
  {
   "cell_type": "code",
   "execution_count": 11,
   "id": "fd5d3307",
   "metadata": {},
   "outputs": [
    {
     "name": "stderr",
     "output_type": "stream",
     "text": [
      "\r",
      "[Stage 3:>                                                          (0 + 1) / 1]\r"
     ]
    },
    {
     "name": "stdout",
     "output_type": "stream",
     "text": [
      "+-------------------+-------------------+--------------------+\n",
      "|    pickup_datetime|   dropoff_datetime|       full_interval|\n",
      "+-------------------+-------------------+--------------------+\n",
      "|2019-10-11 18:00:00|2091-10-11 18:30:00|INTERVAL '26298 0...|\n",
      "|2019-10-28 09:00:00|2091-10-28 09:30:00|INTERVAL '26298 0...|\n",
      "|2019-10-31 23:46:33|2029-11-01 00:13:00|INTERVAL '3653 00...|\n",
      "|2019-10-01 21:43:42|2027-10-01 21:45:23|INTERVAL '2922 00...|\n",
      "|2019-10-17 14:00:00|2020-10-18 00:00:00|INTERVAL '366 10:...|\n",
      "|2019-10-26 21:26:00|2020-10-26 21:36:00|INTERVAL '366 00:...|\n",
      "|2019-10-30 12:30:04|2019-12-30 13:02:08|INTERVAL '61 00:3...|\n",
      "|2019-10-25 07:04:57|2019-12-08 07:54:33|INTERVAL '44 00:4...|\n",
      "|2019-10-25 07:04:57|2019-12-08 07:21:11|INTERVAL '44 00:1...|\n",
      "|2019-10-01 13:47:17|2019-11-03 15:20:28|INTERVAL '33 01:3...|\n",
      "|2019-10-01 07:21:12|2019-11-03 08:44:21|INTERVAL '33 01:2...|\n",
      "|2019-10-01 13:41:00|2019-11-03 14:58:51|INTERVAL '33 01:1...|\n",
      "|2019-10-01 18:43:20|2019-11-03 19:43:13|INTERVAL '33 00:5...|\n",
      "|2019-10-01 18:43:46|2019-11-03 19:43:04|INTERVAL '33 00:5...|\n",
      "|2019-10-01 07:07:09|2019-11-03 07:58:46|INTERVAL '33 00:5...|\n",
      "|2019-10-01 14:49:28|2019-11-03 15:38:07|INTERVAL '33 00:4...|\n",
      "|2019-10-01 05:36:30|2019-11-03 06:23:36|INTERVAL '33 00:4...|\n",
      "|2019-10-01 15:02:55|2019-11-03 15:49:05|INTERVAL '33 00:4...|\n",
      "|2019-10-01 06:08:01|2019-11-03 06:53:15|INTERVAL '33 00:4...|\n",
      "|2019-10-01 06:41:17|2019-11-03 07:26:04|INTERVAL '33 00:4...|\n",
      "+-------------------+-------------------+--------------------+\n",
      "only showing top 20 rows\n",
      "\n"
     ]
    },
    {
     "name": "stderr",
     "output_type": "stream",
     "text": [
      "\r",
      "                                                                                \r"
     ]
    }
   ],
   "source": [
    "spark.sql(\"\"\"\n",
    "    SELECT \n",
    "        \n",
    "        pickup_datetime,\n",
    "        dropoff_datetime,\n",
    "        (dropoff_datetime - pickup_datetime) as full_interval\n",
    "    FROM \n",
    "        fhv\n",
    "    --WHERE \n",
    "        --extract(year from cast(pickup_datetime as date)) = '2019' and extract(year from cast(dropoff_datetime as date)) = '2019'\n",
    "    --GROUP BY 1,2\n",
    "    ORDER BY 3 desc\n",
    "\"\"\").show()"
   ]
  },
  {
   "cell_type": "code",
   "execution_count": 13,
   "id": "2cc1eda5",
   "metadata": {},
   "outputs": [],
   "source": [
    "df_zones = spark.read.option(\"header\",\"true\").csv(\"taxi+_zone_lookup.csv\")"
   ]
  },
  {
   "cell_type": "code",
   "execution_count": 18,
   "id": "a602525e",
   "metadata": {},
   "outputs": [
    {
     "data": {
      "text/plain": [
       "DataFrame[LocationID: string, Borough: string, Zone: string, service_zone: string]"
      ]
     },
     "execution_count": 18,
     "metadata": {},
     "output_type": "execute_result"
    }
   ],
   "source": [
    "df_zones"
   ]
  },
  {
   "cell_type": "code",
   "execution_count": 17,
   "id": "995d56e3",
   "metadata": {},
   "outputs": [
    {
     "name": "stderr",
     "output_type": "stream",
     "text": [
      "/home/haris/spark/spark-3.3.2-bin-hadoop3/python/pyspark/sql/dataframe.py:229: FutureWarning: Deprecated in 2.0, use createOrReplaceTempView instead.\n",
      "  warnings.warn(\"Deprecated in 2.0, use createOrReplaceTempView instead.\", FutureWarning)\n"
     ]
    }
   ],
   "source": [
    "df_zones.registerTempTable(\"zones\")"
   ]
  },
  {
   "cell_type": "code",
   "execution_count": 21,
   "id": "2430a2d6",
   "metadata": {},
   "outputs": [
    {
     "name": "stderr",
     "output_type": "stream",
     "text": [
      "\r",
      "[Stage 11:>                                                         (0 + 1) / 1]\r"
     ]
    },
    {
     "name": "stdout",
     "output_type": "stream",
     "text": [
      "+--------------------+--------+\n",
      "|                zone|count(1)|\n",
      "+--------------------+--------+\n",
      "|         Jamaica Bay|       1|\n",
      "|Governor's Island...|       2|\n",
      "| Green-Wood Cemetery|       5|\n",
      "|       Broad Channel|       8|\n",
      "|     Highbridge Park|      14|\n",
      "|        Battery Park|      15|\n",
      "|Saint Michaels Ce...|      23|\n",
      "|Breezy Point/Fort...|      25|\n",
      "|Marine Park/Floyd...|      26|\n",
      "|        Astoria Park|      29|\n",
      "|    Inwood Hill Park|      39|\n",
      "|       Willets Point|      47|\n",
      "|Forest Park/Highl...|      53|\n",
      "|  Brooklyn Navy Yard|      57|\n",
      "|        Crotona Park|      62|\n",
      "|        Country Club|      77|\n",
      "|     Freshkills Park|      89|\n",
      "|       Prospect Park|      98|\n",
      "|     Columbia Street|     105|\n",
      "|  South Williamsburg|     110|\n",
      "+--------------------+--------+\n",
      "only showing top 20 rows\n",
      "\n"
     ]
    },
    {
     "name": "stderr",
     "output_type": "stream",
     "text": [
      "\r",
      "                                                                                \r"
     ]
    }
   ],
   "source": [
    "spark.sql(\"\"\"\n",
    "    SELECT \n",
    "        zone,\n",
    "        COUNT(1)\n",
    "    FROM \n",
    "        zones z\n",
    "    JOIN fhv f\n",
    "        ON z.LocationID = f.PUlocationID\n",
    "    GROUP BY 1\n",
    "    ORDER BY 2\n",
    "\n",
    "\"\"\").show()"
   ]
  },
  {
   "cell_type": "code",
   "execution_count": 23,
   "id": "a460d0b3",
   "metadata": {},
   "outputs": [],
   "source": [
    "df_joins = df.join(df_zones,df_zones.LocationID == df.PUlocationID,how='inner')"
   ]
  },
  {
   "cell_type": "code",
   "execution_count": 50,
   "id": "fde1d95a",
   "metadata": {
    "scrolled": true
   },
   "outputs": [
    {
     "name": "stderr",
     "output_type": "stream",
     "text": [
      "\r",
      "[Stage 64:>                                                         (0 + 1) / 1]\r"
     ]
    },
    {
     "name": "stdout",
     "output_type": "stream",
     "text": [
      "+--------------------+------------+-----+\n",
      "|                zone|PUlocationID|count|\n",
      "+--------------------+------------+-----+\n",
      "|         Jamaica Bay|           2|    1|\n",
      "|Governor's Island...|         105|    2|\n",
      "| Green-Wood Cemetery|         111|    5|\n",
      "|       Broad Channel|          30|    8|\n",
      "|     Highbridge Park|         120|   14|\n",
      "|        Battery Park|          12|   15|\n",
      "|Saint Michaels Ce...|         207|   23|\n",
      "|Breezy Point/Fort...|          27|   25|\n",
      "|Marine Park/Floyd...|         154|   26|\n",
      "|        Astoria Park|           8|   29|\n",
      "|    Inwood Hill Park|         128|   39|\n",
      "|       Willets Point|         253|   47|\n",
      "|Forest Park/Highl...|          96|   53|\n",
      "|  Brooklyn Navy Yard|          34|   57|\n",
      "|        Crotona Park|          59|   62|\n",
      "|        Country Club|          58|   77|\n",
      "|     Freshkills Park|          99|   89|\n",
      "|       Prospect Park|         190|   98|\n",
      "|     Columbia Street|          54|  105|\n",
      "|  South Williamsburg|         217|  110|\n",
      "+--------------------+------------+-----+\n",
      "only showing top 20 rows\n",
      "\n"
     ]
    },
    {
     "name": "stderr",
     "output_type": "stream",
     "text": [
      "\r",
      "                                                                                \r"
     ]
    }
   ],
   "source": [
    "df_joins.select('zone','PUlocationID')\\\n",
    "        .groupBy('zone','PUlocationID').count()\\\n",
    "        .sort('count').show()"
   ]
  },
  {
   "cell_type": "code",
   "execution_count": null,
   "id": "e5aba04a",
   "metadata": {
    "scrolled": true
   },
   "outputs": [],
   "source": []
  },
  {
   "cell_type": "code",
   "execution_count": 19,
   "id": "9f3cd05b",
   "metadata": {},
   "outputs": [
    {
     "name": "stderr",
     "output_type": "stream",
     "text": [
      "                                                                                \r"
     ]
    }
   ],
   "source": [
    "df.repartition(6).write.parquet('result/fhv/2010')"
   ]
  },
  {
   "cell_type": "code",
   "execution_count": null,
   "id": "6980b81f",
   "metadata": {},
   "outputs": [],
   "source": []
  },
  {
   "cell_type": "code",
   "execution_count": null,
   "id": "56018b39",
   "metadata": {},
   "outputs": [],
   "source": []
  }
 ],
 "metadata": {
  "kernelspec": {
   "display_name": "Python 3 (ipykernel)",
   "language": "python",
   "name": "python3"
  },
  "language_info": {
   "codemirror_mode": {
    "name": "ipython",
    "version": 3
   },
   "file_extension": ".py",
   "mimetype": "text/x-python",
   "name": "python",
   "nbconvert_exporter": "python",
   "pygments_lexer": "ipython3",
   "version": "3.11.5"
  }
 },
 "nbformat": 4,
 "nbformat_minor": 5
}
